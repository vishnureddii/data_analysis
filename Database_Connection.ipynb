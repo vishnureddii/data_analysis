{
  "cells": [
    {
      "cell_type": "code",
      "execution_count": null,
      "id": "311726b7",
      "metadata": {},
      "outputs": [],
      "source": [
        "!pip3 install pandas"
      ]
    },
    {
      "cell_type": "code",
      "execution_count": null,
      "id": "1da2999a",
      "metadata": {},
      "outputs": [],
      "source": [
        "!pip3 install pymysql"
      ]
    },
    {
      "cell_type": "code",
      "execution_count": null,
      "id": "a90ca3f6",
      "metadata": {},
      "outputs": [],
      "source": [
        "import pandas as pd\n",
        "import pymysql"
      ]
    },
    {
      "cell_type": "code",
      "execution_count": 2,
      "id": "b69642fe",
      "metadata": {},
      "outputs": [],
      "source": [
        "conn1 = pymysql.connect(\n",
        "    host='127.0.0.1',\n",
        "    port=int(3306),\n",
        "    user=\"root\",\n",
        "    password=\"****\", #your own password of mysql\n",
        "    db = 'dbname',\n",
        "    charset='utf8mb4'\n",
        "    ) # Connection string"
      ]
    },
    {
      "cell_type": "code",
      "execution_count": 3,
      "id": "366d8e15",
      "metadata": {},
      "outputs": [
        {
          "data": {
            "text/plain": [
              "0"
            ]
          },
          "execution_count": 3,
          "metadata": {},
          "output_type": "execute_result"
        }
      ],
      "source": [
        "cursorobj = conn1.cursor()\n",
        "createquery = \"create table product (product_name varchar(40), rate_of_int float, max_ten_months int, min_ten_months int, is_active char(5))\"\n",
        "cursorobj.execute(createquery)"
      ]
    },
    {
      "cell_type": "code",
      "execution_count": 4,
      "id": "7769c095",
      "metadata": {},
      "outputs": [
        {
          "data": {
            "text/plain": [
              "(('product',),)"
            ]
          },
          "execution_count": 4,
          "metadata": {},
          "output_type": "execute_result"
        }
      ],
      "source": [
        "new_query = \"show tables\"\n",
        "cursorobj.execute(new_query)\n",
        "rows = cursorobj.fetchall()\n",
        "rows"
      ]
    },
    {
      "cell_type": "code",
      "execution_count": 5,
      "id": "adb20283",
      "metadata": {},
      "outputs": [
        {
          "data": {
            "text/plain": [
              "1"
            ]
          },
          "execution_count": 5,
          "metadata": {},
          "output_type": "execute_result"
        }
      ],
      "source": [
        "insert_query =\"insert into product values('Personal loan',12.5,6,24,'Yes')\"\n",
        "cursorobj.execute(insert_query)"
      ]
    },
    {
      "cell_type": "code",
      "execution_count": 6,
      "id": "bbc38814",
      "metadata": {},
      "outputs": [
        {
          "data": {
            "text/plain": [
              "(('Personal loan', 12.5, 6, 24, 'Yes'),)"
            ]
          },
          "execution_count": 6,
          "metadata": {},
          "output_type": "execute_result"
        }
      ],
      "source": [
        "read_query = \"select * from product\"\n",
        "cursorobj.execute(read_query)\n",
        "rows = cursorobj.fetchall()\n",
        "rows"
      ]
    },
    {
      "cell_type": "code",
      "execution_count": 8,
      "id": "6dcc4c56",
      "metadata": {},
      "outputs": [],
      "source": [
        "import warnings\n",
        "warnings.filterwarnings(action='ignore')"
      ]
    },
    {
      "cell_type": "code",
      "execution_count": 7,
      "id": "33e3cc9c",
      "metadata": {},
      "outputs": [
        {
          "data": {
            "text/html": [
              "<div>\n",
              "<style scoped>\n",
              "    .dataframe tbody tr th:only-of-type {\n",
              "        vertical-align: middle;\n",
              "    }\n",
              "\n",
              "    .dataframe tbody tr th {\n",
              "        vertical-align: top;\n",
              "    }\n",
              "\n",
              "    .dataframe thead th {\n",
              "        text-align: right;\n",
              "    }\n",
              "</style>\n",
              "<table border=\"1\" class=\"dataframe\">\n",
              "  <thead>\n",
              "    <tr style=\"text-align: right;\">\n",
              "      <th></th>\n",
              "      <th>product_name</th>\n",
              "      <th>rate_of_int</th>\n",
              "      <th>max_ten_months</th>\n",
              "      <th>min_ten_months</th>\n",
              "      <th>is_active</th>\n",
              "    </tr>\n",
              "  </thead>\n",
              "  <tbody>\n",
              "    <tr>\n",
              "      <th>0</th>\n",
              "      <td>Personal loan</td>\n",
              "      <td>12.5</td>\n",
              "      <td>6</td>\n",
              "      <td>24</td>\n",
              "      <td>Yes</td>\n",
              "    </tr>\n",
              "  </tbody>\n",
              "</table>\n",
              "</div>"
            ],
            "text/plain": [
              "    product_name  rate_of_int  max_ten_months  min_ten_months is_active\n",
              "0  Personal loan         12.5               6              24       Yes"
            ]
          },
          "execution_count": 7,
          "metadata": {},
          "output_type": "execute_result"
        }
      ],
      "source": [
        "df = pd.read_sql_query(read_query,conn1)\n",
        "df"
      ]
    },
    {
      "cell_type": "code",
      "execution_count": 9,
      "id": "e37e040f",
      "metadata": {},
      "outputs": [
        {
          "name": "stdout",
          "output_type": "stream",
          "text": [
            "Enter product name: Home Loan\n",
            "Enter rate of interest 10.5\n",
            "Enter maximum tenure in months 120\n",
            "Enter minimum tenure in months 60\n",
            "Is the product active(Yes/No) Yes\n"
          ]
        }
      ],
      "source": [
        "pred_name = input(\"Enter product name: \")\n",
        "roi = float(input(\"Enter rate of interest \"))\n",
        "max_ten = int(input(\"Enter maximum tenure in months \"))\n",
        "min_ten = int(input(\"Enter minimum tenure in months \"))\n",
        "active = input(\"Is the product active(Yes/No) \")"
      ]
    },
    {
      "cell_type": "code",
      "execution_count": 10,
      "id": "cff1aba3",
      "metadata": {},
      "outputs": [
        {
          "data": {
            "text/plain": [
              "1"
            ]
          },
          "execution_count": 10,
          "metadata": {},
          "output_type": "execute_result"
        }
      ],
      "source": [
        "insert_query = \"insert into product values(%s, %s, %s, %s, %s)\"\n",
        "values = (pred_name,roi,max_ten,min_ten,active)\n",
        "cursorobj.execute(insert_query, values)"
      ]
    },
    {
      "cell_type": "code",
      "execution_count": 11,
      "id": "07037a71",
      "metadata": {},
      "outputs": [
        {
          "data": {
            "text/html": [
              "<div>\n",
              "<style scoped>\n",
              "    .dataframe tbody tr th:only-of-type {\n",
              "        vertical-align: middle;\n",
              "    }\n",
              "\n",
              "    .dataframe tbody tr th {\n",
              "        vertical-align: top;\n",
              "    }\n",
              "\n",
              "    .dataframe thead th {\n",
              "        text-align: right;\n",
              "    }\n",
              "</style>\n",
              "<table border=\"1\" class=\"dataframe\">\n",
              "  <thead>\n",
              "    <tr style=\"text-align: right;\">\n",
              "      <th></th>\n",
              "      <th>product_name</th>\n",
              "      <th>rate_of_int</th>\n",
              "      <th>max_ten_months</th>\n",
              "      <th>min_ten_months</th>\n",
              "      <th>is_active</th>\n",
              "    </tr>\n",
              "  </thead>\n",
              "  <tbody>\n",
              "    <tr>\n",
              "      <th>0</th>\n",
              "      <td>Personal loan</td>\n",
              "      <td>12.5</td>\n",
              "      <td>6</td>\n",
              "      <td>24</td>\n",
              "      <td>Yes</td>\n",
              "    </tr>\n",
              "    <tr>\n",
              "      <th>1</th>\n",
              "      <td>Home Loan</td>\n",
              "      <td>10.5</td>\n",
              "      <td>120</td>\n",
              "      <td>60</td>\n",
              "      <td>Yes</td>\n",
              "    </tr>\n",
              "  </tbody>\n",
              "</table>\n",
              "</div>"
            ],
            "text/plain": [
              "    product_name  rate_of_int  max_ten_months  min_ten_months is_active\n",
              "0  Personal loan         12.5               6              24       Yes\n",
              "1      Home Loan         10.5             120              60       Yes"
            ]
          },
          "execution_count": 11,
          "metadata": {},
          "output_type": "execute_result"
        }
      ],
      "source": [
        "read_query = \"select * from product\"\n",
        "df= pd.read_sql_query(read_query,conn1)\n",
        "df"
      ]
    },
    {
      "cell_type": "code",
      "execution_count": 12,
      "id": "37a74252",
      "metadata": {},
      "outputs": [],
      "source": [
        "def read_data(query,con):\n",
        "    df = pd.read_sql_query(query,con)\n",
        "    return df"
      ]
    },
    {
      "cell_type": "code",
      "execution_count": 13,
      "id": "46fb73ad",
      "metadata": {},
      "outputs": [
        {
          "data": {
            "text/html": [
              "<div>\n",
              "<style scoped>\n",
              "    .dataframe tbody tr th:only-of-type {\n",
              "        vertical-align: middle;\n",
              "    }\n",
              "\n",
              "    .dataframe tbody tr th {\n",
              "        vertical-align: top;\n",
              "    }\n",
              "\n",
              "    .dataframe thead th {\n",
              "        text-align: right;\n",
              "    }\n",
              "</style>\n",
              "<table border=\"1\" class=\"dataframe\">\n",
              "  <thead>\n",
              "    <tr style=\"text-align: right;\">\n",
              "      <th></th>\n",
              "      <th>product_name</th>\n",
              "      <th>rate_of_int</th>\n",
              "      <th>max_ten_months</th>\n",
              "      <th>min_ten_months</th>\n",
              "      <th>is_active</th>\n",
              "    </tr>\n",
              "  </thead>\n",
              "  <tbody>\n",
              "    <tr>\n",
              "      <th>0</th>\n",
              "      <td>Personal loan</td>\n",
              "      <td>12.5</td>\n",
              "      <td>6</td>\n",
              "      <td>24</td>\n",
              "      <td>Yes</td>\n",
              "    </tr>\n",
              "    <tr>\n",
              "      <th>1</th>\n",
              "      <td>Home Loan</td>\n",
              "      <td>10.5</td>\n",
              "      <td>120</td>\n",
              "      <td>60</td>\n",
              "      <td>Yes</td>\n",
              "    </tr>\n",
              "  </tbody>\n",
              "</table>\n",
              "</div>"
            ],
            "text/plain": [
              "    product_name  rate_of_int  max_ten_months  min_ten_months is_active\n",
              "0  Personal loan         12.5               6              24       Yes\n",
              "1      Home Loan         10.5             120              60       Yes"
            ]
          },
          "execution_count": 13,
          "metadata": {},
          "output_type": "execute_result"
        }
      ],
      "source": [
        "## Display only active products\n",
        "sql_query = \"select * from product where is_active = 'Yes'\"\n",
        "df = read_data(sql_query,conn1)\n",
        "df"
      ]
    },
    {
      "cell_type": "code",
      "execution_count": 15,
      "id": "4cd888b5",
      "metadata": {},
      "outputs": [
        {
          "data": {
            "text/html": [
              "<div>\n",
              "<style scoped>\n",
              "    .dataframe tbody tr th:only-of-type {\n",
              "        vertical-align: middle;\n",
              "    }\n",
              "\n",
              "    .dataframe tbody tr th {\n",
              "        vertical-align: top;\n",
              "    }\n",
              "\n",
              "    .dataframe thead th {\n",
              "        text-align: right;\n",
              "    }\n",
              "</style>\n",
              "<table border=\"1\" class=\"dataframe\">\n",
              "  <thead>\n",
              "    <tr style=\"text-align: right;\">\n",
              "      <th></th>\n",
              "      <th>product_name</th>\n",
              "      <th>rate_of_int</th>\n",
              "      <th>max_ten_months</th>\n",
              "      <th>min_ten_months</th>\n",
              "      <th>is_active</th>\n",
              "    </tr>\n",
              "  </thead>\n",
              "  <tbody>\n",
              "    <tr>\n",
              "      <th>0</th>\n",
              "      <td>Personal loan</td>\n",
              "      <td>12.5</td>\n",
              "      <td>6</td>\n",
              "      <td>24</td>\n",
              "      <td>Yes</td>\n",
              "    </tr>\n",
              "    <tr>\n",
              "      <th>1</th>\n",
              "      <td>Home Loan</td>\n",
              "      <td>10.5</td>\n",
              "      <td>120</td>\n",
              "      <td>60</td>\n",
              "      <td>Yes</td>\n",
              "    </tr>\n",
              "  </tbody>\n",
              "</table>\n",
              "</div>"
            ],
            "text/plain": [
              "    product_name  rate_of_int  max_ten_months  min_ten_months is_active\n",
              "0  Personal loan         12.5               6              24       Yes\n",
              "1      Home Loan         10.5             120              60       Yes"
            ]
          },
          "execution_count": 15,
          "metadata": {},
          "output_type": "execute_result"
        }
      ],
      "source": [
        "# Display the product with rate of interest > 10\n",
        "query = \"select * from product where rate_of_int>10\"\n",
        "df = read_data(query,conn1)\n",
        "df"
      ]
    },
    {
      "cell_type": "code",
      "execution_count": 16,
      "id": "9e106e10",
      "metadata": {},
      "outputs": [
        {
          "data": {
            "text/html": [
              "<div>\n",
              "<style scoped>\n",
              "    .dataframe tbody tr th:only-of-type {\n",
              "        vertical-align: middle;\n",
              "    }\n",
              "\n",
              "    .dataframe tbody tr th {\n",
              "        vertical-align: top;\n",
              "    }\n",
              "\n",
              "    .dataframe thead th {\n",
              "        text-align: right;\n",
              "    }\n",
              "</style>\n",
              "<table border=\"1\" class=\"dataframe\">\n",
              "  <thead>\n",
              "    <tr style=\"text-align: right;\">\n",
              "      <th></th>\n",
              "      <th>rate_of_int</th>\n",
              "    </tr>\n",
              "  </thead>\n",
              "  <tbody>\n",
              "    <tr>\n",
              "      <th>0</th>\n",
              "      <td>10.5</td>\n",
              "    </tr>\n",
              "  </tbody>\n",
              "</table>\n",
              "</div>"
            ],
            "text/plain": [
              "   rate_of_int\n",
              "0         10.5"
            ]
          },
          "execution_count": 16,
          "metadata": {},
          "output_type": "execute_result"
        }
      ],
      "source": [
        "## Display rate of interest for home loan\n",
        "sql_query = \"select rate_of_int from product where product_name = 'Home Loan'\"\n",
        "df = read_data(sql_query, conn1)\n",
        "df"
      ]
    },
    {
      "cell_type": "code",
      "execution_count": null,
      "id": "e6000ea5",
      "metadata": {},
      "outputs": [],
      "source": [
        "df.info()"
      ]
    },
    {
      "cell_type": "code",
      "execution_count": 17,
      "id": "257e2152",
      "metadata": {},
      "outputs": [
        {
          "data": {
            "text/plain": [
              "1"
            ]
          },
          "execution_count": 17,
          "metadata": {},
          "output_type": "execute_result"
        }
      ],
      "source": [
        "# Change the rate of interest for personal loan to 16%\n",
        "update_query = \"update product set rate_of_int = 16 where product_name = 'Personal Loan'\"\n",
        "cursorobj.execute(update_query)"
      ]
    },
    {
      "cell_type": "code",
      "execution_count": 19,
      "id": "a0cd6860",
      "metadata": {},
      "outputs": [
        {
          "data": {
            "text/plain": [
              "0"
            ]
          },
          "execution_count": 19,
          "metadata": {},
          "output_type": "execute_result"
        }
      ],
      "source": [
        "cursorobj.execute(\"commit\")"
      ]
    },
    {
      "cell_type": "code",
      "execution_count": 18,
      "id": "802aa42c",
      "metadata": {},
      "outputs": [
        {
          "data": {
            "text/html": [
              "<div>\n",
              "<style scoped>\n",
              "    .dataframe tbody tr th:only-of-type {\n",
              "        vertical-align: middle;\n",
              "    }\n",
              "\n",
              "    .dataframe tbody tr th {\n",
              "        vertical-align: top;\n",
              "    }\n",
              "\n",
              "    .dataframe thead th {\n",
              "        text-align: right;\n",
              "    }\n",
              "</style>\n",
              "<table border=\"1\" class=\"dataframe\">\n",
              "  <thead>\n",
              "    <tr style=\"text-align: right;\">\n",
              "      <th></th>\n",
              "      <th>product_name</th>\n",
              "      <th>rate_of_int</th>\n",
              "      <th>max_ten_months</th>\n",
              "      <th>min_ten_months</th>\n",
              "      <th>is_active</th>\n",
              "    </tr>\n",
              "  </thead>\n",
              "  <tbody>\n",
              "    <tr>\n",
              "      <th>0</th>\n",
              "      <td>Personal loan</td>\n",
              "      <td>16.0</td>\n",
              "      <td>6</td>\n",
              "      <td>24</td>\n",
              "      <td>Yes</td>\n",
              "    </tr>\n",
              "    <tr>\n",
              "      <th>1</th>\n",
              "      <td>Home Loan</td>\n",
              "      <td>10.5</td>\n",
              "      <td>120</td>\n",
              "      <td>60</td>\n",
              "      <td>Yes</td>\n",
              "    </tr>\n",
              "  </tbody>\n",
              "</table>\n",
              "</div>"
            ],
            "text/plain": [
              "    product_name  rate_of_int  max_ten_months  min_ten_months is_active\n",
              "0  Personal loan         16.0               6              24       Yes\n",
              "1      Home Loan         10.5             120              60       Yes"
            ]
          },
          "execution_count": 18,
          "metadata": {},
          "output_type": "execute_result"
        }
      ],
      "source": [
        "read_query = \"select * from product\"\n",
        "df= pd.read_sql_query(read_query,conn1)\n",
        "df"
      ]
    },
    {
      "cell_type": "code",
      "execution_count": null,
      "id": "579c9977",
      "metadata": {},
      "outputs": [],
      "source": [
        "df.info()"
      ]
    },
    {
      "cell_type": "code",
      "execution_count": 20,
      "id": "23719922",
      "metadata": {},
      "outputs": [
        {
          "data": {
            "text/plain": [
              "1"
            ]
          },
          "execution_count": 20,
          "metadata": {},
          "output_type": "execute_result"
        }
      ],
      "source": [
        "# delete the row of home loan\n",
        "del_query = \"delete from product where product_name = 'Home Loan'\"\n",
        "cursorobj.execute(del_query)"
      ]
    },
    {
      "cell_type": "code",
      "execution_count": 21,
      "id": "f9301c5c",
      "metadata": {},
      "outputs": [
        {
          "data": {
            "text/html": [
              "<div>\n",
              "<style scoped>\n",
              "    .dataframe tbody tr th:only-of-type {\n",
              "        vertical-align: middle;\n",
              "    }\n",
              "\n",
              "    .dataframe tbody tr th {\n",
              "        vertical-align: top;\n",
              "    }\n",
              "\n",
              "    .dataframe thead th {\n",
              "        text-align: right;\n",
              "    }\n",
              "</style>\n",
              "<table border=\"1\" class=\"dataframe\">\n",
              "  <thead>\n",
              "    <tr style=\"text-align: right;\">\n",
              "      <th></th>\n",
              "      <th>product_name</th>\n",
              "      <th>rate_of_int</th>\n",
              "      <th>max_ten_months</th>\n",
              "      <th>min_ten_months</th>\n",
              "      <th>is_active</th>\n",
              "    </tr>\n",
              "  </thead>\n",
              "  <tbody>\n",
              "    <tr>\n",
              "      <th>0</th>\n",
              "      <td>Personal loan</td>\n",
              "      <td>16.0</td>\n",
              "      <td>6</td>\n",
              "      <td>24</td>\n",
              "      <td>Yes</td>\n",
              "    </tr>\n",
              "  </tbody>\n",
              "</table>\n",
              "</div>"
            ],
            "text/plain": [
              "    product_name  rate_of_int  max_ten_months  min_ten_months is_active\n",
              "0  Personal loan         16.0               6              24       Yes"
            ]
          },
          "execution_count": 21,
          "metadata": {},
          "output_type": "execute_result"
        }
      ],
      "source": [
        "read_query = \"select * from product\"\n",
        "df= pd.read_sql_query(read_query,conn1)\n",
        "df"
      ]
    },
    {
      "cell_type": "code",
      "execution_count": null,
      "id": "6d464f8c",
      "metadata": {},
      "outputs": [],
      "source": [
        "cursorobj = conn1.cursor()\n",
        "createquery = \"create table trans(tid int primary key, ttime datetime, accno int, amount float, constraint t_fk foreign key(accno) references accounts(account_no))\"\n",
        "cursorobj.execute(createquery)"
      ]
    },
    {
      "cell_type": "code",
      "execution_count": null,
      "id": "6e785ede",
      "metadata": {},
      "outputs": [],
      "source": [
        "query = \"show tables\"\n",
        "cursorobj.execute(query)\n",
        "rows = cursorobj.fetchall()\n",
        "rows"
      ]
    },
    {
      "cell_type": "code",
      "execution_count": null,
      "id": "1fab56ad",
      "metadata": {},
      "outputs": [],
      "source": [
        "cursorobj = conn1.cursor()\n",
        "createquery = \"drop table product\"\n",
        "cursorobj.execute(createquery)"
      ]
    },
    {
      "cell_type": "code",
      "execution_count": null,
      "id": "332b4a01",
      "metadata": {},
      "outputs": [],
      "source": [
        "query = \"show tables\"\n",
        "cursorobj.execute(query)\n",
        "rows = cursorobj.fetchall()\n",
        "rows"
      ]
    },
    {
      "cell_type": "code",
      "execution_count": null,
      "id": "b67f59df",
      "metadata": {},
      "outputs": [],
      "source": [
        
      ]
    }
  ],
  "metadata": {
    "kernelspec": {
      "display_name": "Python 3 (ipykernel)",
      "language": "python",
      "name": "python3"
    },
    "language_info": {
      "codemirror_mode": {
        "name": "ipython",
        "version": 3
      },
      "file_extension": ".py",
      "mimetype": "text/x-python",
      "name": "python",
      "nbconvert_exporter": "python",
      "pygments_lexer": "ipython3",
      "version": "3.9.7"
    }
  },
  "nbformat": 4,
  "nbformat_minor": 5
}
